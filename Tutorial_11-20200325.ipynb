{
 "cells": [
  {
   "cell_type": "markdown",
   "metadata": {
    "editable": false
   },
   "source": [
    "# Tutorial 11: Hypothesis test for independence #\n"
   ]
  },
  {
   "cell_type": "markdown",
   "metadata": {
    "editable": false
   },
   "source": [
    "## Objectives: ##\n",
    "To become familiar with the steps for completing a hypothesis test to determine if we have enough evidence to suggest that two variables are dependent."
   ]
  },
  {
   "cell_type": "markdown",
   "metadata": {
    "editable": false
   },
   "source": [
    "## Instructions: ##\n",
    "* You must complete the hypothesis test with all the steps as demonstrated in the example.\n",
    "* Unlike the example you must show all the calculations you completed in code cells.\n",
    "* Do not round any of the values you find.\n",
    "* All word questions must be answered with complete sentences."
   ]
  },
  {
   "cell_type": "markdown",
   "metadata": {
    "editable": false
   },
   "source": [
    "## Formulae: ##\n",
    "For the $\\chi^2$ distribution the degrees of freedom, $$df = (r-1)(c - 1)$$<br>\n",
    "where $r$ is the number of rows in the table and $c$ is the number of columns.\n"
   ]
  },
  {
   "cell_type": "markdown",
   "metadata": {
    "editable": false
   },
   "source": [
    "## Tools: ##"
   ]
  },
  {
   "cell_type": "code",
   "execution_count": 45,
   "metadata": {
    "editable": false
   },
   "outputs": [],
   "source": [
    "cdc1000 <- read.csv(\"cdc1000.csv\", header=TRUE)\n",
    "chisqplot<-function(dfIn, region=0){\n",
    "    curve(dchisq(x, df = dfIn), from = 0, to = dfIn+6*sqrt(2*dfIn),\n",
    "          main = paste('ChiSquare Distribution, df =',dfIn),\n",
    "          ylab = 'Density', lwd = 2)\n",
    "}"
   ]
  },
  {
   "cell_type": "markdown",
   "metadata": {
    "editable": false
   },
   "source": [
    "## Data Information: ##\n",
    "\n",
    "### Data Set 1: ###\n",
    "Today we will be using data from the CDC.  \n",
    "\n",
    "The Behavioral Risk Factor Surveillance System (BRFSS) is an annual telephone survey of 350,000 people in the United States. As its name implies, the BRFSS is designed to identify risk factors in the adult population and report emerging health trends. For example, respondents are asked about their diet and weekly physical activity, their HIV/AIDS status, possible tobacco use, and even their level of healthcare coverage. The BRFSS Web site (http://www.cdc.gov/brfss) contains a complete description of the survey, including the research questions that motivate the study and many interesting results derived from the data.\n",
    "\n",
    "While there are a huge number variables in this data set, we will work with a small subset of the variables.<br>The data cdc1000 consists of 1000 randomly selected entries from the larger study described above.\n",
    "\n",
    "#### Name: #### \n",
    "* `cdc1000` - health data from the sample of the BRFSS survey from 2000.\n",
    "\n",
    "#### Variables: ####\n",
    "* `genhlth` - respondents were asked to evaluate their general health, responding either excellent, very good, good, fair or poor\n",
    "* `exerany` - whether the respondent exercised in the past month (recent) or did not (not_recent).\n",
    "* `hlthplan` - whether the respondent had some form of health coverage (insured) or did not (uninsured).\n",
    "* `smoke100` - whether the respondent had smoked at least 100 cigarettes in her lifetime (smoker) or has not (nonsmoker).\n",
    "* `height` - the respondent's height measured in inches.\n",
    "* `weight` - the respondent's weight measured in pounds.\n",
    "* `wtdesire` - the respondent's desired weight measured in pounds.\n",
    "* `age` - the respondent's age measured in years.\n",
    "* `gender` - whether the respondent said they were female or male.\n",
    "\n"
   ]
  },
  {
   "cell_type": "markdown",
   "metadata": {
    "editable": false
   },
   "source": [
    "## Example: ##\n",
    "The type of answers I expect from students are shown in <font color=blue>blue</font> whenever possible.<br>Students are also expected to show the code (in code cells) used to calculate the the values in their answers."
   ]
  },
  {
   "cell_type": "markdown",
   "metadata": {
    "editable": false
   },
   "source": [
    "#### Question: ####\n",
    "Do people who have smoked at least 100 cigarettes in their life time evaluate their general health differently than those that have not smoked? \n",
    "\n",
    "Conduction a hypothesis test with a level of significance of $\\alpha = 0.05$ to determine whether or not these variables are dependent."
   ]
  },
  {
   "cell_type": "markdown",
   "metadata": {
    "editable": false
   },
   "source": [
    "#### 1. State the Hypotheses ####\n",
    "<font color=blue>$H_0$: There is no relationship between the variables genhlth and smoke100, they are independent.<br>\n",
    "$H_A$: There is a relationship between the variables genhlth and smoke100, they are dependent.</font>"
   ]
  },
  {
   "cell_type": "markdown",
   "metadata": {
    "editable": false
   },
   "source": [
    "#### 2. Choose the Level of Significance and Sample Size ####\n",
    "In this case we are 'choosing' the values we have been instructed to use in the question.<br>\n",
    "<font color=blue>$\\alpha = 0.05$ and $n = 1000$</font><br>\n",
    "NOTE: It is often true that a field of study or type of experiment will have a standard level of significance that everyone uses if they wish their work to be accepted by their peers. As for sample size, if you are designing an experiment/study/survey you generally try to choose a sample size sufficiently large to allow you to use the normal distribution, if that is possible."
   ]
  },
  {
   "cell_type": "markdown",
   "metadata": {
    "editable": false
   },
   "source": [
    "#### 3. Describe the sampling distribution ####\n",
    "We need to make sure that the data was chosen randomly (or is at least representative) that the sample size is less than 10% of the population size and that the sample is large enough that each possible outcome (entry in the table) is at least 5.<br>\n",
    "<font color = blue>The data description claims the sample of 1000 taken from the study is random. Further, whether we think of the population as all the members of the survey or all Americans, it is definitely true that $n = 1000 < 0.1$ of $350,000 < 0.1$ of all Americans.<br>\n",
    "Lastly, every possible outcome (shown in the table below) is at least 5.<br>\n",
    "Thus, we know we can use the $\\chi^2$ distribution.</font>"
   ]
  },
  {
   "cell_type": "code",
   "execution_count": 46,
   "metadata": {
    "editable": false
   },
   "outputs": [
    {
     "data": {
      "text/plain": [
       "             \n",
       "              nonsmoker smoker\n",
       "  0-poor             11     12\n",
       "  1-fair             48     47\n",
       "  2-good            137    155\n",
       "  3-very good       184    162\n",
       "  4-excellent       145     99"
      ]
     },
     "metadata": {},
     "output_type": "display_data"
    }
   ],
   "source": [
    "hlthSmoke <- table(cdc1000$genhlth,cdc1000$smoke100)\n",
    "hlthSmoke"
   ]
  },
  {
   "cell_type": "markdown",
   "metadata": {
    "editable": false
   },
   "source": [
    "#### 4. Sketch the distribution of the test statistic ####"
   ]
  },
  {
   "cell_type": "markdown",
   "metadata": {
    "editable": false
   },
   "source": [
    "To use the chisqplot to draw the $\\chi^2$ distribution for this test we first need to calculate the degrees of freedom.<br>\n",
    "<font color=blue>Since the table has 5 rows and 2 columns we know $df = (5-1)(2-1) = 4$</font>"
   ]
  },
  {
   "cell_type": "code",
   "execution_count": 47,
   "metadata": {
    "editable": false
   },
   "outputs": [
    {
     "data": {
      "image/png": "[encoded data removed]",
      "text/plain": [
       "Plot with title “ChiSquare Distribution, df = 4”"
      ]
     },
     "metadata": {},
     "output_type": "display_data"
    }
   ],
   "source": [
    "chisqplot(4)"
   ]
  },
  {
   "cell_type": "markdown",
   "metadata": {
    "editable": false
   },
   "source": [
    "#### 5. Do the experiment ####\n",
    "<font color=blue>The results of the random survey are summarized in the table.</font>"
   ]
  },
  {
   "cell_type": "code",
   "execution_count": 48,
   "metadata": {
    "editable": false
   },
   "outputs": [
    {
     "data": {
      "text/plain": [
       "             \n",
       "              nonsmoker smoker\n",
       "  0-poor             11     12\n",
       "  1-fair             48     47\n",
       "  2-good            137    155\n",
       "  3-very good       184    162\n",
       "  4-excellent       145     99"
      ]
     },
     "metadata": {},
     "output_type": "display_data"
    }
   ],
   "source": [
    "hlthSmoke"
   ]
  },
  {
   "cell_type": "markdown",
   "metadata": {
    "editable": false
   },
   "source": [
    "#### 6. Calculate the test statistic and p-value ####\n",
    "We can use the chisq.test (use the table above in the brackets) to determine $\\chi^2$ and the p-value.<br>\n",
    "<font color=blue>The test statistic $\\chi^2 = 8.7565$ and the p-value $= 0.06748$.</font>"
   ]
  },
  {
   "cell_type": "code",
   "execution_count": 49,
   "metadata": {
    "editable": false,
    "scrolled": true
   },
   "outputs": [
    {
     "data": {
      "text/plain": [
       "\n",
       "\tPearson's Chi-squared test\n",
       "\n",
       "data:  hlthSmoke\n",
       "X-squared = 8.7565, df = 4, p-value = 0.06748\n"
      ]
     },
     "metadata": {},
     "output_type": "display_data"
    }
   ],
   "source": [
    "chisq.test(hlthSmoke)"
   ]
  },
  {
   "cell_type": "markdown",
   "metadata": {
    "editable": false
   },
   "source": [
    "#### 7. Make a conclusion ####\n",
    "<font color=blue> Since our p-value of 0.06748 is greater than our level of significance, $\\alpha = 0.05$ we do not have strong evidence to reject the null hypothesis, so there is no evidence the variables are dependent.<br>\n",
    " Thus, we have no evidence that there is a relationship between the manner in which those who have smoked at least 100 cigarettes in their lifetime evaluate their general health than those that have not smoked.</font>"
   ]
  },
  {
   "cell_type": "markdown",
   "metadata": {
    "editable": false
   },
   "source": [
    "## Question 1. Hypothesis test for independence ##"
   ]
  },
  {
   "cell_type": "markdown",
   "metadata": {
    "editable": false
   },
   "source": [
    "Do people who have exercised recently evaluate their general health differently than those that have not exercised recently? \n",
    "\n",
    "Conduction a hypothesis test with a level of significance of $\\alpha = 0.05$ to determine whether or not these variables are dependent."
   ]
  },
  {
   "cell_type": "markdown",
   "metadata": {
    "editable": false
   },
   "source": [
    "#### 1. State the Hypotheses ####\n",
    "State each hypothesis clearly."
   ]
  },
  {
   "cell_type": "markdown",
   "metadata": {},
   "source": [
    "State each hypothesis in words."
   ]
  },
  {
   "cell_type": "markdown",
   "metadata": {
    "editable": false
   },
   "source": [
    "#### 2. Choose the Level of Significance and Sample Size ####"
   ]
  },
  {
   "cell_type": "markdown",
   "metadata": {},
   "source": [
    "Enter your answer in the form of a sentence."
   ]
  },
  {
   "cell_type": "markdown",
   "metadata": {
    "editable": false
   },
   "source": [
    "#### 3. Describe the sampling distribution ####\n",
    "* Indicate how you know you can use the chi squared distribution<br>OR \n",
    "* why you shouldn't do so.\n",
    "\n",
    "Regardless of the results in this section continue the rest of the question as though we can use the $\\chi^2$ distribution."
   ]
  },
  {
   "cell_type": "code",
   "execution_count": null,
   "metadata": {},
   "outputs": [],
   "source": [
    "Enter calculations in the cell."
   ]
  },
  {
   "cell_type": "markdown",
   "metadata": {},
   "source": [
    "Enter your answer in the form of a sentence or three."
   ]
  },
  {
   "cell_type": "markdown",
   "metadata": {
    "editable": false
   },
   "source": [
    "#### 4. Sketch the distribution of the test statistic ####\n",
    "Determine the degrees of freedom then sketch the distribution."
   ]
  },
  {
   "cell_type": "code",
   "execution_count": null,
   "metadata": {},
   "outputs": [],
   "source": [
    "Enter calculations (if any are needed) in this cell."
   ]
  },
  {
   "cell_type": "code",
   "execution_count": null,
   "metadata": {},
   "outputs": [],
   "source": [
    "Enter the command to sketch the distribution in this cell."
   ]
  },
  {
   "cell_type": "markdown",
   "metadata": {
    "editable": false
   },
   "source": [
    "#### 5. Do the experiment ####"
   ]
  },
  {
   "cell_type": "code",
   "execution_count": null,
   "metadata": {},
   "outputs": [],
   "source": [
    "Enter calculations (if any are needed) in this cell."
   ]
  },
  {
   "cell_type": "markdown",
   "metadata": {},
   "source": [
    "Enter your answer in the form of a sentence."
   ]
  },
  {
   "cell_type": "markdown",
   "metadata": {
    "editable": false
   },
   "source": [
    "#### 6. Calculate the test statistic and p-value ####"
   ]
  },
  {
   "cell_type": "code",
   "execution_count": null,
   "metadata": {},
   "outputs": [],
   "source": [
    "Enter calculations in this cell."
   ]
  },
  {
   "cell_type": "markdown",
   "metadata": {},
   "source": [
    "Enter your answer in the form of a sentence or three."
   ]
  },
  {
   "cell_type": "markdown",
   "metadata": {
    "editable": false
   },
   "source": [
    "#### 7. Make a conclusion ####"
   ]
  },
  {
   "cell_type": "markdown",
   "metadata": {},
   "source": [
    "Enter your answer in the form of a sentence or three."
   ]
  },
  {
   "cell_type": "markdown",
   "metadata": {
    "editable": false
   },
   "source": [
    "---\n",
    "---\n",
    "#### This tutorial is released under a Creative Commons Attribution-ShareAlike 3.0 Unported.\n",
    "\n",
    "This tutorial has been adapted from a lab that  was adapted for OpenIntro by Andrew Bray and Mine Çetinkaya-Rundel from a lab written by Mark Hansen of UCLA Statistics.\n",
    "\n",
    "---\n",
    "---"
   ]
  }
 ],
 "metadata": {
  "kernelspec": {
   "display_name": "R",
   "language": "R",
   "name": "ir"
  },
  "language_info": {
   "codemirror_mode": "r",
   "file_extension": ".r",
   "mimetype": "text/x-r-source",
   "name": "R",
   "pygments_lexer": "r",
   "version": "3.6.1"
  }
 },
 "nbformat": 4,
 "nbformat_minor": 2
}
